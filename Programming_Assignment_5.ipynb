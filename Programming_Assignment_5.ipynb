{
 "cells": [
  {
   "cell_type": "code",
   "execution_count": 5,
   "id": "7876b0a3",
   "metadata": {},
   "outputs": [
    {
     "name": "stdout",
     "output_type": "stream",
     "text": [
      "Enter the first number:12\n",
      "Enter the second number:26\n",
      "The LCM of two numbers is: 156\n"
     ]
    }
   ],
   "source": [
    "#1.Write a Python Program to Find LCM?\n",
    "\n",
    "num1=int(input(\"Enter the first number:\"))\n",
    "num2=int(input(\"Enter the second number:\"))\n",
    "if(num1>num2):\n",
    "    max=num1\n",
    "else:\n",
    "    max=num2\n",
    "while(True):\n",
    "    if(max%num1==0)and(max%num2==0):\n",
    "        print(\"The LCM of two numbers is:\",max)\n",
    "        break\n",
    "    else:    \n",
    "        max+=1 "
   ]
  },
  {
   "cell_type": "code",
   "execution_count": 7,
   "id": "33c6be2a",
   "metadata": {},
   "outputs": [
    {
     "name": "stdout",
     "output_type": "stream",
     "text": [
      "Enter the first number:50\n",
      "Enter the second number:100\n",
      "HCF of 50 and 100 is: 50\n"
     ]
    }
   ],
   "source": [
    "#2.Write a Python Program to Find HCF?\n",
    "\n",
    "num1=int(input(\"Enter the first number:\"))\n",
    "num2=int(input(\"Enter the second number:\"))\n",
    "\n",
    "if (num1>num2):\n",
    "    num1,num2 = num2,num1\n",
    "    \n",
    "for i in range(1,num1+1):\n",
    "    if(num1%i == 0)and(num2%i == 0):\n",
    "        hcf = i\n",
    "\n",
    "print(\"HCF of\",num1,\"and\",num2,\"is:\",hcf)"
   ]
  },
  {
   "cell_type": "code",
   "execution_count": 14,
   "id": "0c9ce04c",
   "metadata": {},
   "outputs": [
    {
     "name": "stdout",
     "output_type": "stream",
     "text": [
      "Enter an integer:88\n",
      "The decimal value is: 88\n",
      "Decimal to binary is: 0b1011000\n",
      "Decimal to octal is: 0o130\n",
      "Decimal to hexadecimal is: 0x58\n"
     ]
    }
   ],
   "source": [
    "#3.Write a Python Program to Convert Decimal to Binary,\n",
    "#Octal and Hexadecimal?\n",
    "\n",
    "decimal=int(input(\"Enter an integer:\"))\n",
    "print(\"The decimal value is:\",decimal)\n",
    "print(\"Decimal to binary is:\",bin(decimal))\n",
    "print(\"Decimal to octal is:\",oct(decimal))\n",
    "print(\"Decimal to hexadecimal is:\",hex(decimal))"
   ]
  },
  {
   "cell_type": "code",
   "execution_count": 11,
   "id": "71c00713",
   "metadata": {},
   "outputs": [
    {
     "name": "stdout",
     "output_type": "stream",
     "text": [
      "Please enter a character:U\n",
      "The ASCII value of U is 85\n"
     ]
    }
   ],
   "source": [
    "#4.Write a Python Program To Find ASCII value of a character?\n",
    "\n",
    "a= input(\"Please enter a character:\")\n",
    "print(\"The ASCII value of\", a,\"is\",ord(a))"
   ]
  },
  {
   "cell_type": "code",
   "execution_count": 12,
   "id": "17bc7dea",
   "metadata": {},
   "outputs": [
    {
     "name": "stdout",
     "output_type": "stream",
     "text": [
      "The addition of two numbers is: 15\n",
      "The subtraction of two numbers is: 15\n",
      "The multiplication of two numbers is: 30\n",
      "The division of two numbers is: 6.0\n"
     ]
    }
   ],
   "source": [
    "#5.Write a Python Program to Make a Simple Calculator with\n",
    "#4 basic mathematical operations?\n",
    "\n",
    "def add(a,b):\n",
    "    c=a+b\n",
    "    print(\"The addition of two numbers is:\",c)\n",
    "def sub(a,b):\n",
    "    c=a-b\n",
    "    print(\"The subtraction of two numbers is:\",c)\n",
    "def mult(a,b):\n",
    "    c=a*b\n",
    "    print(\"The multiplication of two numbers is:\",c)\n",
    "def div(a,b):\n",
    "    c=a/b\n",
    "    print(\"The division of two numbers is:\",c)\n",
    "    \n",
    "add(10,5) \n",
    "sub(20,5)\n",
    "mult(5,6)\n",
    "div(30,5)"
   ]
  }
 ],
 "metadata": {
  "kernelspec": {
   "display_name": "Python 3 (ipykernel)",
   "language": "python",
   "name": "python3"
  },
  "language_info": {
   "codemirror_mode": {
    "name": "ipython",
    "version": 3
   },
   "file_extension": ".py",
   "mimetype": "text/x-python",
   "name": "python",
   "nbconvert_exporter": "python",
   "pygments_lexer": "ipython3",
   "version": "3.9.7"
  }
 },
 "nbformat": 4,
 "nbformat_minor": 5
}
