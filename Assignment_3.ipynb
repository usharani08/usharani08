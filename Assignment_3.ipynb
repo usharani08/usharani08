{
 "cells": [
  {
   "cell_type": "code",
   "execution_count": null,
   "id": "5ca39c87",
   "metadata": {},
   "outputs": [],
   "source": [
    "#1. Why are functions advantageous to have in your programs?\n",
    "\n",
    "A function is a block of code that performs a specific task. Functions helps to break our program into smaller parts.\n",
    "It avoids repetition and makes the code reusable.\n"
   ]
  },
  {
   "cell_type": "code",
   "execution_count": null,
   "id": "099ebc9c",
   "metadata": {},
   "outputs": [],
   "source": [
    "#2.When does the code in a function run when its specified or when its called?\n",
    "\n",
    "When a function is called, the program leaves the current section of code and begins to execute from the first line \n",
    "inside the function. \n"
   ]
  },
  {
   "cell_type": "code",
   "execution_count": null,
   "id": "100bfbfb",
   "metadata": {},
   "outputs": [],
   "source": [
    "#3.What statement creates a function?\n",
    "\n",
    "def keyword creates a function.\n",
    "Ex: def fun1():\n",
    "        "
   ]
  },
  {
   "cell_type": "code",
   "execution_count": null,
   "id": "9a20b0c1",
   "metadata": {},
   "outputs": [],
   "source": [
    "#4. What is the difference between a function and a function call?\n",
    "\n",
    "A function is the procedure or a block of code to achieve a particular task.\n",
    "\n",
    "The function call is used in function to achieve that task."
   ]
  },
  {
   "cell_type": "code",
   "execution_count": null,
   "id": "f1d9e002",
   "metadata": {},
   "outputs": [],
   "source": [
    "#5. How many global scopes are there in a Python program? How many local scopes?\n",
    "\n",
    "There is only one global scope in a python program.The scope of global variables will be visible in every function.\n",
    "It is defined and declared  outside any function. They can be used by any part of the program.\n",
    " \n",
    "The scope of local variable is limited to the function where it is defined. It can be used only inside the function.\n"
   ]
  },
  {
   "cell_type": "code",
   "execution_count": 1,
   "id": "9a0e46d5",
   "metadata": {},
   "outputs": [],
   "source": [
    "#6.What happens to variables in a local scope when the function call returns?\n",
    "\n",
    "When a function returns, the local scope will be destroyed. \n"
   ]
  },
  {
   "cell_type": "code",
   "execution_count": null,
   "id": "812bd43c",
   "metadata": {},
   "outputs": [],
   "source": [
    "#7.What is the concept of a return value? Is it possible to have a return value in an expression?\n",
    "\n",
    "A return is a value that a function returns to the calling function when it completes its task. \n",
    "\n",
    "If the return statement is without any expression, then None is returned."
   ]
  },
  {
   "cell_type": "code",
   "execution_count": null,
   "id": "ec018fad",
   "metadata": {},
   "outputs": [],
   "source": [
    "#8.If a function does not have a return statement, what is the return value of a call to that function?\n",
    "\n",
    "If there are no return statement, then it returns None. The return value of the called function is undefined."
   ]
  },
  {
   "cell_type": "code",
   "execution_count": null,
   "id": "4f84fdba",
   "metadata": {},
   "outputs": [],
   "source": [
    "#9.How do you make a function variable refer to the global variable?\n",
    "\n",
    "If we refer to the global variable in a function,we can use the global keyword to declare the variables which\n",
    "are global."
   ]
  },
  {
   "cell_type": "code",
   "execution_count": null,
   "id": "5e402518",
   "metadata": {},
   "outputs": [],
   "source": [
    "#10.What is the data type of None?\n",
    "\n",
    "Data Type of None is NoneType."
   ]
  },
  {
   "cell_type": "code",
   "execution_count": null,
   "id": "d857ff7d",
   "metadata": {},
   "outputs": [],
   "source": [
    "#11.What does the sentence import areallyourpetsnamederic do?\n",
    "\n",
    "The import statement imports a module named areallyourpetsnamederic."
   ]
  },
  {
   "cell_type": "code",
   "execution_count": null,
   "id": "800badcd",
   "metadata": {},
   "outputs": [],
   "source": [
    "#12.If you had a bacon() feature in a spam module, what would you call it after importing spam?\n",
    "\n",
    "We can call the function as spam.bacon()"
   ]
  },
  {
   "cell_type": "code",
   "execution_count": null,
   "id": "b5030c1f",
   "metadata": {},
   "outputs": [],
   "source": [
    "#13.What can you do to save a programme from crashing if it encounters an error?\n",
    "\n",
    "We must write a code inside the try clause to save a program from crashing.\n"
   ]
  },
  {
   "cell_type": "code",
   "execution_count": null,
   "id": "a966dc9b",
   "metadata": {},
   "outputs": [],
   "source": [
    "#14.What is the purpose of the try clause? What is the purpose of the except clause?\n",
    "\n",
    "The try block tests a block of code for errors. If there is any error, the except block will handle the error."
   ]
  }
 ],
 "metadata": {
  "kernelspec": {
   "display_name": "Python 3 (ipykernel)",
   "language": "python",
   "name": "python3"
  },
  "language_info": {
   "codemirror_mode": {
    "name": "ipython",
    "version": 3
   },
   "file_extension": ".py",
   "mimetype": "text/x-python",
   "name": "python",
   "nbconvert_exporter": "python",
   "pygments_lexer": "ipython3",
   "version": "3.9.7"
  }
 },
 "nbformat": 4,
 "nbformat_minor": 5
}
