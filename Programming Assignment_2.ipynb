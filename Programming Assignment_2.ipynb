{
 "cells": [
  {
   "cell_type": "code",
   "execution_count": 4,
   "id": "ea9d0c59",
   "metadata": {},
   "outputs": [
    {
     "name": "stdout",
     "output_type": "stream",
     "text": [
      "Enter the value in kilometers:20\n",
      "The entered value in Miles:  12.42742\n"
     ]
    }
   ],
   "source": [
    "#1.Write a Python program to convert kilometers to miles?\n",
    "\n",
    "km = int(input(\"Enter the value in kilometers:\"))\n",
    "\n",
    "# 1 Kilometre = 0.621371 Mile\n",
    "ratio = 0.621371\n",
    "\n",
    "miles = km * ratio\n",
    "\n",
    "print(\"The entered value from Km to Miles: \", miles)"
   ]
  },
  {
   "cell_type": "code",
   "execution_count": 12,
   "id": "77cd67eb",
   "metadata": {},
   "outputs": [
    {
     "name": "stdout",
     "output_type": "stream",
     "text": [
      "Temperature value in degree Celsius:37\n",
      "The 37.00 degree Celsius is equal to: 98.60 Fahrenheit\n"
     ]
    }
   ],
   "source": [
    "#2.Write a Python program to convert Celsius to Fahrenheit?\n",
    "\n",
    "celsius = float(input(\"Temperature value in degree Celsius:\"))  \n",
    "Fahrenheit = (celsius *1.8) + 32  \n",
    "     \n",
    "print(\"The %.2f degree Celsius is equal to: %.2f Fahrenheit\"  \n",
    "      %(celsius, Fahrenheit))  "
   ]
  },
  {
   "cell_type": "code",
   "execution_count": 4,
   "id": "48fa00e0",
   "metadata": {},
   "outputs": [
    {
     "name": "stdout",
     "output_type": "stream",
     "text": [
      "Enter the year:2018\n",
      "Enter the month number from 1 to 12: 3\n",
      "Calendar Displayed : \n",
      "      March 2018\n",
      "Mo Tu We Th Fr Sa Su\n",
      "          1  2  3  4\n",
      " 5  6  7  8  9 10 11\n",
      "12 13 14 15 16 17 18\n",
      "19 20 21 22 23 24 25\n",
      "26 27 28 29 30 31\n",
      "\n"
     ]
    }
   ],
   "source": [
    "#3.Write a Python program to display calendar?\n",
    "\n",
    "import calendar\n",
    "\n",
    "yy = int(input(\"Enter the year:\"))\n",
    "mm = int(input(\"Enter the month number from 1 to 12: \"))\n",
    "\n",
    "print(\"Calendar Displayed :\",\"\\n\", calendar.month(yy,mm))\n"
   ]
  },
  {
   "cell_type": "code",
   "execution_count": 7,
   "id": "5acc1989",
   "metadata": {},
   "outputs": [
    {
     "name": "stdout",
     "output_type": "stream",
     "text": [
      "Enter the value of a= 5\n",
      "Enter the value of b= 10\n",
      "Enter the value of c= 0\n",
      "This equation has two solutions:  0.0 or -2.0\n"
     ]
    }
   ],
   "source": [
    "#4.Write a Python program to solve quadratic equation?\n",
    "\n",
    "import math\n",
    "\n",
    "a = int(input(\"Enter the value of a= \")) \n",
    "b = int(input(\"Enter the value of b= \")) \n",
    "c = int(input(\"Enter the value of c= \")) \n",
    "\n",
    "\"\"\"Formula to solve the equation\"\"\"\n",
    "d=b**2-4*a*c \n",
    "\n",
    "if d < 0: \n",
    "    print('The equation has no real solution') \n",
    "    \n",
    "elif d == 0: \n",
    "    x=(-b)/(2*a) \n",
    "    \n",
    "    print('This equation has one solution ',x) \n",
    "else: \n",
    "    x1 = (-b+math.sqrt(d))/(2*a) \n",
    "    x2 = (-b-math.sqrt(d))/(2*a) \n",
    "    print('This equation has two solutions: ',x1, 'or',x2) \n",
    "    "
   ]
  },
  {
   "cell_type": "code",
   "execution_count": 7,
   "id": "c5cdd7c7",
   "metadata": {},
   "outputs": [
    {
     "name": "stdout",
     "output_type": "stream",
     "text": [
      "Enter the first number:2\n",
      "Enter the second number:3\n",
      "The first number after swapping is: = 3\n",
      "The second number after swapping is: = 2\n"
     ]
    }
   ],
   "source": [
    "#5.Write a Python program to swap two variables without temp variable?\n",
    "\n",
    "x = int(input(\"Enter the first number:\"))\n",
    "y = int(input(\"Enter the second number:\"))\n",
    "\n",
    "x,y = y,x\n",
    "\n",
    "print(\"The first number after swapping is: =\", x)\n",
    "print(\"The second number after swapping is: =\", y)"
   ]
  }
 ],
 "metadata": {
  "kernelspec": {
   "display_name": "Python 3 (ipykernel)",
   "language": "python",
   "name": "python3"
  },
  "language_info": {
   "codemirror_mode": {
    "name": "ipython",
    "version": 3
   },
   "file_extension": ".py",
   "mimetype": "text/x-python",
   "name": "python",
   "nbconvert_exporter": "python",
   "pygments_lexer": "ipython3",
   "version": "3.9.7"
  }
 },
 "nbformat": 4,
 "nbformat_minor": 5
}
