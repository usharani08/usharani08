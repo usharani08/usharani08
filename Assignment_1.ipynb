{
 "cells": [
  {
   "cell_type": "raw",
   "id": "ce726b87",
   "metadata": {},
   "source": [
    "#1. \n",
    "* - expression(operator)\n",
    "'hello' - value(string)\n",
    "-87.8 - value\n",
    "- - expression\n",
    "/ - expression\n",
    "+ - expression\n",
    "6 - value\n"
   ]
  },
  {
   "cell_type": "code",
   "execution_count": null,
   "id": "4ad5746e",
   "metadata": {},
   "outputs": [],
   "source": [
    "# 2.Difference between string and variable\n",
    "Variable is a kind of entity which holds a data.\n",
    "Eg: x=10\n",
    "    \n",
    "String is a collection of characters.We can use single or double quotes to represent the string.\n",
    "\n",
    "Eg: string=\"usha\"\n",
    "    "
   ]
  },
  {
   "cell_type": "code",
   "execution_count": null,
   "id": "ce5ad71c",
   "metadata": {},
   "outputs": [],
   "source": [
    "#3. 3 different data types\n",
    "a. Integer\n",
    "b. Floating point\n",
    "c. String\n"
   ]
  },
  {
   "cell_type": "code",
   "execution_count": null,
   "id": "5cae31bc",
   "metadata": {},
   "outputs": [],
   "source": [
    "#4. \n",
    "\n",
    "An expression is a combination of values, variables, operators and functions. \n",
    "\n",
    "Expressions must be evaluated and if we need to print an expression, the interpreter evaluates the expression.\n",
    "\n",
    "Ex: 54+10 =64\n"
   ]
  },
  {
   "cell_type": "code",
   "execution_count": null,
   "id": "11d35447",
   "metadata": {},
   "outputs": [],
   "source": [
    "#5.\n",
    "\n",
    "Expression is a combination of variables, operations and values which displays the result.\n",
    "\n",
    "Eg: 2+2 = 4\n",
    "    \n",
    "Statements represent an action or command like print statement.\n",
    " \n",
    "Eg:print(i)"
   ]
  },
  {
   "cell_type": "code",
   "execution_count": 3,
   "id": "b7d8c884",
   "metadata": {},
   "outputs": [
    {
     "data": {
      "text/plain": [
       "23"
      ]
     },
     "execution_count": 3,
     "metadata": {},
     "output_type": "execute_result"
    }
   ],
   "source": [
    "#6.\n",
    "bacon=22\n",
    "bacon+1"
   ]
  },
  {
   "cell_type": "code",
   "execution_count": null,
   "id": "2c554442",
   "metadata": {},
   "outputs": [],
   "source": [
    "#7. \n",
    "Output: \n",
    "    \n",
    "'spam' + 'spamspam'\n",
    "\n",
    "'spam' * 3\n",
    "    \n",
    "spamspamspam"
   ]
  },
  {
   "cell_type": "code",
   "execution_count": null,
   "id": "20524d4b",
   "metadata": {},
   "outputs": [],
   "source": [
    "#8.\n",
    "\n",
    "We cannot assign variables an integer number. if needed, we can use a alphabet name and then followed by integer.\n",
    "\n",
    "Eg: eggs100 , e100, egg100.\n"
   ]
  },
  {
   "cell_type": "code",
   "execution_count": null,
   "id": "4a3fab80",
   "metadata": {},
   "outputs": [],
   "source": [
    "#9.\n",
    "\n",
    "int()\n",
    "str()\n",
    "float()"
   ]
  },
  {
   "cell_type": "code",
   "execution_count": null,
   "id": "b030cb7a",
   "metadata": {},
   "outputs": [],
   "source": [
    "#10. \n",
    "\n",
    "'i have eaten'+ 99 +'burritos' expression is wrong because 99 is an integer. \n",
    "\n",
    "Strings can be concatenated to other strings with the + operator.\n",
    "\n",
    "We get the following error if we run this code:\n",
    "    \n",
    " TypeError: can only concatenate str (not \"int\") to str.\n",
    "    \n",
    "If we type the expression as 'I have eaten 99 burritos' then the expression \n",
    "will be string. \n",
    "\n",
    "So the output will be displayed as 'I have eaten 99 burritos'"
   ]
  }
 ],
 "metadata": {
  "kernelspec": {
   "display_name": "Python 3 (ipykernel)",
   "language": "python",
   "name": "python3"
  },
  "language_info": {
   "codemirror_mode": {
    "name": "ipython",
    "version": 3
   },
   "file_extension": ".py",
   "mimetype": "text/x-python",
   "name": "python",
   "nbconvert_exporter": "python",
   "pygments_lexer": "ipython3",
   "version": "3.9.7"
  }
 },
 "nbformat": 4,
 "nbformat_minor": 5
}
