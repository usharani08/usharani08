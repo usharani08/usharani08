{
 "cells": [
  {
   "cell_type": "code",
   "execution_count": 13,
   "id": "5b0c80e0",
   "metadata": {},
   "outputs": [
    {
     "name": "stdout",
     "output_type": "stream",
     "text": [
      "[[11  1]\n",
      " [ 8  0]]\n"
     ]
    }
   ],
   "source": [
    "#1.Write a Python program to Add two matrices\n",
    "\n",
    "import numpy as np\n",
    "\n",
    "A = np.array([[2, 4], [5, -6]])\n",
    "B = np.array([[9, -3], [3, 6]])\n",
    "C = A + B  \n",
    "print(C)\n"
   ]
  },
  {
   "cell_type": "code",
   "execution_count": 12,
   "id": "20f8412d",
   "metadata": {},
   "outputs": [
    {
     "name": "stdout",
     "output_type": "stream",
     "text": [
      "[[36 30]\n",
      " [11  8]]\n"
     ]
    }
   ],
   "source": [
    "#2.Write a Python Program to Multiply Two Matrices?\n",
    "\n",
    "import numpy as np\n",
    "\n",
    "A = np.array([[3, 6, 7], [5, 3, 0]])\n",
    "B = np.array([[1, 1], [2, 1], [3, 3]])\n",
    "C = A.dot(B)\n",
    "print(C)\n",
    "\n"
   ]
  },
  {
   "cell_type": "code",
   "execution_count": 15,
   "id": "c64d384e",
   "metadata": {},
   "outputs": [
    {
     "name": "stdout",
     "output_type": "stream",
     "text": [
      "[[1 2 3]\n",
      " [7 8 4]]\n"
     ]
    }
   ],
   "source": [
    "#3.Write a Python program to Transpose a Matrix?\n",
    "\n",
    "import numpy as np\n",
    "\n",
    "A = np.array([[1, 7], [2, 8], [3, 4]])\n",
    "print(A.transpose())"
   ]
  },
  {
   "cell_type": "code",
   "execution_count": 16,
   "id": "1bf0333d",
   "metadata": {},
   "outputs": [
    {
     "name": "stdout",
     "output_type": "stream",
     "text": [
      "Enter a string: this is my python program\n",
      "The sorted words are:\n",
      "is\n",
      "my\n",
      "program\n",
      "python\n",
      "this\n"
     ]
    }
   ],
   "source": [
    "#4. write a Python program to Sort Words in Alphabetic Order\n",
    "\n",
    "my_str = input(\"Enter a string: \")\n",
    "\n",
    "words = [word.lower() for word in my_str.split()]\n",
    "words.sort()\n",
    "print(\"The sorted words are:\")\n",
    "\n",
    "for word in words:\n",
    "    print(word)"
   ]
  },
  {
   "cell_type": "code",
   "execution_count": 17,
   "id": "a47b8e37",
   "metadata": {},
   "outputs": [
    {
     "name": "stdout",
     "output_type": "stream",
     "text": [
      "Enter a string: ''hello'!(python)-[program]{};:'\"\\\n",
      "String after removal of punctuation:\n",
      "hellopythonprogram\n"
     ]
    }
   ],
   "source": [
    "#5.Write a Python Program to Remove Punctuation From a String?\n",
    "\n",
    "punctuations = '''!()-[]{};:'\"\\,<>./?@#$%^&*_~'''\n",
    "\n",
    "my_str = input(\"Enter a string: \")\n",
    "\n",
    "no_punct = \"\"\n",
    "for char in my_str:\n",
    "    if char not in punctuations:\n",
    "        no_punct = no_punct + char\n",
    "\n",
    "print(\"String after removal of punctuation:\")\n",
    "print(no_punct)\n"
   ]
  }
 ],
 "metadata": {
  "kernelspec": {
   "display_name": "Python 3 (ipykernel)",
   "language": "python",
   "name": "python3"
  },
  "language_info": {
   "codemirror_mode": {
    "name": "ipython",
    "version": 3
   },
   "file_extension": ".py",
   "mimetype": "text/x-python",
   "name": "python",
   "nbconvert_exporter": "python",
   "pygments_lexer": "ipython3",
   "version": "3.9.7"
  }
 },
 "nbformat": 4,
 "nbformat_minor": 5
}
