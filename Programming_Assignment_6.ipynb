{
 "cells": [
  {
   "cell_type": "code",
   "execution_count": 24,
   "id": "cbc649f3",
   "metadata": {},
   "outputs": [
    {
     "name": "stdout",
     "output_type": "stream",
     "text": [
      "Enter the number:8\n",
      "Fibonacci sequence is:\n",
      "0\n",
      "1\n",
      "1\n",
      "2\n",
      "3\n",
      "5\n",
      "8\n",
      "13\n"
     ]
    }
   ],
   "source": [
    "#1.Write a Python Program to Display Fibonacci Sequence \n",
    "#Using Recursion?\n",
    "\n",
    "def recur_fibo(n):\n",
    "    if n <= 1:\n",
    "        return n\n",
    "    else:\n",
    "        return(recur_fibo(n-1) + recur_fibo(n-2))\n",
    "\n",
    "nterms = int(input(\"Enter the number:\"))\n",
    "\n",
    "if nterms <= 0:\n",
    "     print(\"Plese enter a positive integer\")\n",
    "else:\n",
    "    print(\"Fibonacci sequence is:\")\n",
    "for i in range(nterms):\n",
    "        print(recur_fibo(i))\n"
   ]
  },
  {
   "cell_type": "code",
   "execution_count": 10,
   "id": "ac8fffb1",
   "metadata": {},
   "outputs": [
    {
     "name": "stdout",
     "output_type": "stream",
     "text": [
      "Enter the number:5\n",
      "Factorial of  5 is 120\n"
     ]
    }
   ],
   "source": [
    "#2. Write a Python Program to Find Factorial of Number\n",
    "#Using Recursion?\n",
    "\n",
    "def recur_fact(n):\n",
    "    if n == 1:\n",
    "        return n\n",
    "    else:\n",
    "            return n*recur_fact(n-1)\n",
    "\n",
    "nterms = int(input(\"Enter the number:\"))\n",
    "\n",
    "if nterms < 0:\n",
    "     print(\"Plese enter a positive integer\")\n",
    "elif nterms==0:\n",
    "    print(\"Factorial of the number 0 is 1\")\n",
    "else:\n",
    "    print(\"Factorial of \",nterms, \"is\", recur_fact(nterms))\n",
    "   "
   ]
  },
  {
   "cell_type": "code",
   "execution_count": 13,
   "id": "27bab39f",
   "metadata": {},
   "outputs": [
    {
     "name": "stdout",
     "output_type": "stream",
     "text": [
      "Enter your height in cm: 168\n",
      "Enter your weight in kg: 106\n",
      "Your BMI is 37.55668934240364\n",
      "You are in Obesity Class2\n"
     ]
    }
   ],
   "source": [
    "#3.Write a Python Program to calculate your Body Mass Index?\n",
    "\n",
    "height = float(input(\"Enter your height in cm: \"))\n",
    "weight = float(input(\"Enter your weight in kg: \"))\n",
    "\n",
    "BMI=weight/(height/100)**2\n",
    "print(\"Your BMI is\",BMI)\n",
    "\n",
    "if BMI <= 18.4:\n",
    "    print(\"You are underweight\")\n",
    "elif BMI <= 24.9:\n",
    "    print(\"You are healthy\")\n",
    "elif BMI <= 29.9:\n",
    "    print(\"You are over weight\")\n",
    "elif BMI <= 34.9:\n",
    "    print(\"You are in Obesity Class1\")\n",
    "elif BMI <= 39.9:\n",
    "    print(\"You are in Obesity Class2\")\n",
    "else:\n",
    "    print(\"You are in Obesity class 3\")\n"
   ]
  },
  {
   "cell_type": "code",
   "execution_count": 17,
   "id": "64efc3a3",
   "metadata": {},
   "outputs": [
    {
     "name": "stdout",
     "output_type": "stream",
     "text": [
      "Enter any number:5\n",
      "Natural logarithm of 5 is: 1.6094379124341003\n"
     ]
    }
   ],
   "source": [
    "#4. Write a Python Program to calculate the natural\n",
    "#logarithm of any number?\n",
    "\n",
    "import math\n",
    "num=int(input(\"Enter any number:\"))\n",
    "print (\"Natural logarithm of\",num,\"is:\", math.log(num))"
   ]
  },
  {
   "cell_type": "code",
   "execution_count": 22,
   "id": "e9e367f1",
   "metadata": {},
   "outputs": [
    {
     "name": "stdout",
     "output_type": "stream",
     "text": [
      "Enter the number:8\n",
      "The sum of natural numbers is: 1296\n"
     ]
    }
   ],
   "source": [
    "#5.Write a Python Program for cube sum of first n \n",
    "#natural numbers?\n",
    "\n",
    "def Sum_Series(n):\n",
    "    sum = 0\n",
    "    for i in range(1, n+1):\n",
    "        sum +=i*i*i  \n",
    "    return sum\n",
    "\n",
    "n = int(input(\"Enter the number:\"))\n",
    "print(\"The sum of natural numbers is:\",Sum_Series(n))"
   ]
  },
  {
   "cell_type": "code",
   "execution_count": null,
   "id": "22ef7ffc",
   "metadata": {},
   "outputs": [],
   "source": []
  }
 ],
 "metadata": {
  "kernelspec": {
   "display_name": "Python 3 (ipykernel)",
   "language": "python",
   "name": "python3"
  },
  "language_info": {
   "codemirror_mode": {
    "name": "ipython",
    "version": 3
   },
   "file_extension": ".py",
   "mimetype": "text/x-python",
   "name": "python",
   "nbconvert_exporter": "python",
   "pygments_lexer": "ipython3",
   "version": "3.9.7"
  }
 },
 "nbformat": 4,
 "nbformat_minor": 5
}
