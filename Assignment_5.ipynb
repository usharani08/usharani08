{
 "cells": [
  {
   "cell_type": "code",
   "execution_count": null,
   "id": "b1d2594f",
   "metadata": {},
   "outputs": [],
   "source": [
    "#1.What does an empty dictionary's code look like?\n",
    "\n",
    "Empty dictionary will look like {}.(Curly braces)"
   ]
  },
  {
   "cell_type": "code",
   "execution_count": 7,
   "id": "9d0d68dd",
   "metadata": {},
   "outputs": [],
   "source": [
    "#2.What is the value of a dictionary value with the key \n",
    "#'foo' and the value 42?\n",
    "\n",
    "dict={'foo': 42}"
   ]
  },
  {
   "cell_type": "code",
   "execution_count": null,
   "id": "9073828b",
   "metadata": {},
   "outputs": [],
   "source": [
    "#3.What is the most significant distinction between a \n",
    "#dictionary and a list?\n",
    "\n",
    "A list is an ordered sequence of objects, whereas \n",
    "dictionaries are unordered collection of data.\n",
    "\n",
    "The main difference is that items in dictionaries are accessed \n",
    "through keys and not by their position.\n",
    "\n",
    "Lists are accessed by index value. \n"
   ]
  },
  {
   "cell_type": "code",
   "execution_count": 5,
   "id": "61454d93",
   "metadata": {},
   "outputs": [
    {
     "ename": "KeyError",
     "evalue": "'foo'",
     "output_type": "error",
     "traceback": [
      "\u001b[0;31m---------------------------------------------------------------------------\u001b[0m",
      "\u001b[0;31mKeyError\u001b[0m                                  Traceback (most recent call last)",
      "\u001b[0;32m/var/folders/w6/k4vxv9kx41sbzf5g6phdy_hw0000gn/T/ipykernel_2779/58291465.py\u001b[0m in \u001b[0;36m<module>\u001b[0;34m\u001b[0m\n\u001b[1;32m      3\u001b[0m \u001b[0;34m\u001b[0m\u001b[0m\n\u001b[1;32m      4\u001b[0m \u001b[0mspam\u001b[0m\u001b[0;34m=\u001b[0m\u001b[0;34m{\u001b[0m\u001b[0;34m'bar'\u001b[0m\u001b[0;34m:\u001b[0m\u001b[0;36m100\u001b[0m\u001b[0;34m}\u001b[0m\u001b[0;34m\u001b[0m\u001b[0;34m\u001b[0m\u001b[0m\n\u001b[0;32m----> 5\u001b[0;31m \u001b[0mspam\u001b[0m\u001b[0;34m[\u001b[0m\u001b[0;34m'foo'\u001b[0m\u001b[0;34m]\u001b[0m\u001b[0;34m\u001b[0m\u001b[0;34m\u001b[0m\u001b[0m\n\u001b[0m\u001b[1;32m      6\u001b[0m \u001b[0;34m\u001b[0m\u001b[0m\n",
      "\u001b[0;31mKeyError\u001b[0m: 'foo'"
     ]
    }
   ],
   "source": [
    "#4.What happens if you try to access spam['foo'] if spam\n",
    "#is {'bar': 100}?\n",
    "\n",
    "spam={'bar':100}\n",
    "spam['foo']\n",
    "\n",
    "foo is not defined. So it displays an error."
   ]
  },
  {
   "cell_type": "code",
   "execution_count": 11,
   "id": "6167ad6b",
   "metadata": {},
   "outputs": [
    {
     "data": {
      "text/plain": [
       "{'cat': 50}"
      ]
     },
     "execution_count": 11,
     "metadata": {},
     "output_type": "execute_result"
    }
   ],
   "source": [
    "#5.If a dictionary is stored in spam, what is the difference \n",
    "#between the expressions'cat' in spam and 'cat' in spam.keys()?\n",
    "\n",
    "spam={'cat':50}\n",
    "\n",
    "spam\n",
    "\n",
    "Here cat is a key and 50 is value in dict spam."
   ]
  },
  {
   "cell_type": "code",
   "execution_count": 12,
   "id": "cd92b6a6",
   "metadata": {},
   "outputs": [
    {
     "data": {
      "text/plain": [
       "dict_keys(['cat'])"
      ]
     },
     "execution_count": 12,
     "metadata": {},
     "output_type": "execute_result"
    }
   ],
   "source": [
    "spam.keys() \n",
    "\n",
    "Here cat will be the key in spam.keys()"
   ]
  },
  {
   "cell_type": "code",
   "execution_count": 13,
   "id": "bafaa8da",
   "metadata": {},
   "outputs": [
    {
     "data": {
      "text/plain": [
       "{'cat': 50}"
      ]
     },
     "execution_count": 13,
     "metadata": {},
     "output_type": "execute_result"
    }
   ],
   "source": [
    "#6.If a dictionary is stored in spam, what is the difference \n",
    "#between the expressions 'cat' in spam and 'cat' in spam.values()?\n",
    "\n",
    "spam={'cat':50}\n",
    "\n",
    "spam"
   ]
  },
  {
   "cell_type": "code",
   "execution_count": 14,
   "id": "7354529f",
   "metadata": {},
   "outputs": [
    {
     "data": {
      "text/plain": [
       "dict_values([50])"
      ]
     },
     "execution_count": 14,
     "metadata": {},
     "output_type": "execute_result"
    }
   ],
   "source": [
    "spam.values() \n",
    "\n",
    "Here the value 50 is displayed when spam.values() is called."
   ]
  },
  {
   "cell_type": "code",
   "execution_count": null,
   "id": "d025deac",
   "metadata": {},
   "outputs": [],
   "source": [
    "#7.What is a shortcut for the following code?\n",
    "#if 'color' not in spam:\n",
    "#spam['color'] = 'black'\n",
    "\n",
    "spam.setdefault('color','black')\n"
   ]
  },
  {
   "cell_type": "code",
   "execution_count": null,
   "id": "eff72043",
   "metadata": {},
   "outputs": [],
   "source": [
    "#8.How do you\"pretty print\"dictionary values using\n",
    "#which module and function?\n",
    "\n",
    "Within the pprint module there is a function with the same \n",
    "name pprint(), which is the function used to pretty-print \n",
    "the given string or object.\n",
    "\n",
    "First, declare an array of dictionaries. Then we can use  \n",
    "pretty print by using the function pprint.pprint().\n",
    "\n",
    "Example is listed below:"
   ]
  },
  {
   "cell_type": "code",
   "execution_count": 39,
   "id": "8ffaa96a",
   "metadata": {},
   "outputs": [
    {
     "name": "stdout",
     "output_type": "stream",
     "text": [
      "Using print statement:\n",
      " [{'Name': 'Usha', 'Age': '35', 'Country': 'India'}, {'Name': 'Rani', 'Age': '30', 'Country': 'India'}, {'Name': 'Das', 'Age': '39', 'Country': 'UK'}]\n",
      "Using pprint statement:\n",
      "\n",
      "[{'Age': '35', 'Country': 'India', 'Name': 'Usha'},\n",
      " {'Age': '30', 'Country': 'India', 'Name': 'Rani'},\n",
      " {'Age': '39', 'Country': 'UK', 'Name': 'Das'}]\n"
     ]
    }
   ],
   "source": [
    "Example:\n",
    "    \n",
    "import pprint\n",
    "\n",
    "dict_custdetails = [\n",
    "  {'Name': 'Usha', 'Age': '35', 'Country': 'India'},\n",
    "  {'Name': 'Rani', 'Age': '30', 'Country': 'India'},\n",
    "  {'Name': 'Das', 'Age': '39', 'Country': 'UK'},\n",
    "]\n",
    "\n",
    "print(\"Using print statement:\\n\", dict_custdetails)\n",
    "print(\"Using pprint statement:\\n\")\n",
    "pprint.pprint( dict_custdetails)\n",
    "\n",
    "\n",
    "Here the pprint statement will be displayed based on the key values\n",
    "in alphabetical order(Age,Country,Name). \n",
    "\n",
    "If we use sort_dicts=False, then it will be \n",
    "displayed as in print statement(Name,Age,Country). "
   ]
  },
  {
   "cell_type": "code",
   "execution_count": null,
   "id": "e835b8f1",
   "metadata": {},
   "outputs": [],
   "source": []
  }
 ],
 "metadata": {
  "kernelspec": {
   "display_name": "Python 3 (ipykernel)",
   "language": "python",
   "name": "python3"
  },
  "language_info": {
   "codemirror_mode": {
    "name": "ipython",
    "version": 3
   },
   "file_extension": ".py",
   "mimetype": "text/x-python",
   "name": "python",
   "nbconvert_exporter": "python",
   "pygments_lexer": "ipython3",
   "version": "3.9.7"
  }
 },
 "nbformat": 4,
 "nbformat_minor": 5
}
