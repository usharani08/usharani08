{
 "cells": [
  {
   "cell_type": "code",
   "execution_count": 1,
   "id": "b2f8fe15",
   "metadata": {},
   "outputs": [
    {
     "name": "stdout",
     "output_type": "stream",
     "text": [
      "Enter a number:4\n",
      "The factorial of 4 is 24\n"
     ]
    }
   ],
   "source": [
    "#1.Write a Python Program to Find the Factorial of a Number?\n",
    "\n",
    "num = int(input(\"Enter a number:\"))\n",
    "\n",
    "factorial = 1\n",
    "\n",
    "if num < 0:\n",
    "    print(\"Factorial does not exist for negative numbers\",\n",
    "          \"Enter the correct number\")\n",
    "elif num == 0:\n",
    "    print(\"The factorial of 0 is 1\")\n",
    "else:\n",
    "    for i in range(1,num + 1):\n",
    "        factorial = factorial*i\n",
    "    print(\"The factorial of\",num,\"is\",factorial)"
   ]
  },
  {
   "cell_type": "code",
   "execution_count": 19,
   "id": "838e2ffb",
   "metadata": {},
   "outputs": [
    {
     "name": "stdout",
     "output_type": "stream",
     "text": [
      "The multiplication table of:8\n",
      "8 x 1 = 8\n",
      "8 x 2 = 16\n",
      "8 x 3 = 24\n",
      "8 x 4 = 32\n",
      "8 x 5 = 40\n",
      "8 x 6 = 48\n",
      "8 x 7 = 56\n",
      "8 x 8 = 64\n",
      "8 x 9 = 72\n",
      "8 x 10 = 80\n"
     ]
    }
   ],
   "source": [
    "#2. Write a Python Program to Display the multiplication Table?\n",
    "\n",
    "num = int(input(\"The multiplication table of:\"))\n",
    "for i in range(1,11):\n",
    "     print(num,'x',i,'=', num*i)"
   ]
  },
  {
   "cell_type": "code",
   "execution_count": 1,
   "id": "685e30e9",
   "metadata": {},
   "outputs": [
    {
     "name": "stdout",
     "output_type": "stream",
     "text": [
      "Enter the sequence number you want to display:8\n",
      "Fibonacci sequence is:\n",
      "0\n",
      "1\n",
      "1\n",
      "2\n",
      "3\n",
      "5\n",
      "8\n",
      "13\n"
     ]
    }
   ],
   "source": [
    "#3.Write a Python Program to Print the Fibonacci sequence?\n",
    "\n",
    "num=int(input(\"Enter the sequence number you want to display:\"))\n",
    "count=0\n",
    "num1,num2=0,1\n",
    "\n",
    "if(num<=0):\n",
    "     print(\"Enter a positive no\")\n",
    "elif (num==1):\n",
    "    print(num1)\n",
    "else:\n",
    "    print(\"Fibonacci sequence is:\")\n",
    "    while (count<num):\n",
    "        print(num1)\n",
    "        num3=num1+num2\n",
    "        num1=num2\n",
    "        num2=num3\n",
    "        count+=1"
   ]
  },
  {
   "cell_type": "code",
   "execution_count": 14,
   "id": "5c6dbcfd",
   "metadata": {},
   "outputs": [
    {
     "name": "stdout",
     "output_type": "stream",
     "text": [
      "Please enter the Number:9474\n",
      "9474 is a Armstrong Number\n"
     ]
    }
   ],
   "source": [
    "#4.Write a Python Program to Check Armstrong Number?\n",
    "\n",
    "number = int(input(\"Please enter the Number:\"))\n",
    "Sum = 0\n",
    "Times = 0       \n",
    "Temp = number\n",
    "\n",
    "while Temp > 0:\n",
    "           Times = Times + 1\n",
    "           Temp = Temp // 10\n",
    "\n",
    "Temp = number\n",
    "while Temp > 0:\n",
    "           Reminder = Temp % 10\n",
    "           Sum = Sum + (Reminder**Times)\n",
    "           Temp //= 10\n",
    "if number == Sum:\n",
    "           print(number, \"is a Armstrong Number\")\n",
    "else:\n",
    "           print(number,\" is Not a Armstrong Number\")\n"
   ]
  },
  {
   "cell_type": "code",
   "execution_count": 9,
   "id": "44f548b2",
   "metadata": {},
   "outputs": [
    {
     "name": "stdout",
     "output_type": "stream",
     "text": [
      "Enter the lower range number:100\n",
      "Enter the upper range number:1500\n",
      "153\n",
      "370\n",
      "371\n",
      "407\n"
     ]
    }
   ],
   "source": [
    "#5.Write a Python Program to Find Armstrong Number in an Interval?\n",
    "\n",
    "lower = int(input(\"Enter the lower range number:\"))\n",
    "upper = int(input(\"Enter the upper range number:\"))\n",
    "\n",
    "for num in range(lower, upper + 1):\n",
    "    order = len(str(num))\n",
    "    sum = 0\n",
    "    temp = num\n",
    "    while temp > 0:\n",
    "        digit = temp % 10\n",
    "        sum += digit ** order\n",
    "        temp //= 10\n",
    "    if num == sum:\n",
    "           print(num)"
   ]
  },
  {
   "cell_type": "code",
   "execution_count": 2,
   "id": "01e9eda6",
   "metadata": {},
   "outputs": [
    {
     "name": "stdout",
     "output_type": "stream",
     "text": [
      "Enter the numberwhich sums up the natural numbers from 1 till the number u give:7\n",
      "The sum is 28\n"
     ]
    }
   ],
   "source": [
    "#6.Write a Python Program to Find the Sum of Natural Numbers?\n",
    "\n",
    "num=int(input(\"Enter the number\" \n",
    "\"which sums up the natural numbers from 1 till the number u give:\"))\n",
    "\n",
    "if num < 0:\n",
    "    print(\"Enter a positive number\")\n",
    "else:\n",
    "    sum = 0\n",
    "   # use while loop to iterate until zero\n",
    "    while(num > 0):\n",
    "        sum += num\n",
    "        num -= 1\n",
    "    print(\"The sum is\", sum)"
   ]
  }
 ],
 "metadata": {
  "kernelspec": {
   "display_name": "Python 3 (ipykernel)",
   "language": "python",
   "name": "python3"
  },
  "language_info": {
   "codemirror_mode": {
    "name": "ipython",
    "version": 3
   },
   "file_extension": ".py",
   "mimetype": "text/x-python",
   "name": "python",
   "nbconvert_exporter": "python",
   "pygments_lexer": "ipython3",
   "version": "3.9.7"
  }
 },
 "nbformat": 4,
 "nbformat_minor": 5
}
