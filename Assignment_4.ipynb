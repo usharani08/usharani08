{
 "cells": [
  {
   "cell_type": "code",
   "execution_count": null,
   "id": "fa62723f",
   "metadata": {},
   "outputs": [],
   "source": [
    "#1. What exactly is []?\n",
    "\n",
    "A list is created by [](square brackets). We can have any number of\n",
    "items inside the [].\n",
    "Ex: list1=[1,2,3,4,5,6]"
   ]
  },
  {
   "cell_type": "code",
   "execution_count": 64,
   "id": "8dbe3f60",
   "metadata": {},
   "outputs": [],
   "source": [
    "#2.In a list of values stored in a variable called spam, how would \n",
    "#you assign the value 'hello'as the third value? \n",
    "#(Assume [2, 4, 6, 8, 10] are in spam.)\n",
    "#Lets pretend the spam includes the \n",
    "#list ['a','b','c','d'] for the next three queries.\n",
    "\n",
    "spam=[2,4,6,8,10]\n",
    "spam.insert(2,\"hello\")\n"
   ]
  },
  {
   "cell_type": "code",
   "execution_count": 65,
   "id": "48a18859",
   "metadata": {},
   "outputs": [
    {
     "data": {
      "text/plain": [
       "[2, 4, 'hello', 6, 8, 10]"
      ]
     },
     "execution_count": 65,
     "metadata": {},
     "output_type": "execute_result"
    }
   ],
   "source": [
    "spam"
   ]
  },
  {
   "cell_type": "code",
   "execution_count": 14,
   "id": "b3cc6b52",
   "metadata": {},
   "outputs": [
    {
     "data": {
      "text/plain": [
       "'d'"
      ]
     },
     "execution_count": 14,
     "metadata": {},
     "output_type": "execute_result"
    }
   ],
   "source": [
    "#3. What is the value of spam[int(int('3') * 2) / 11)]?\n",
    "\n",
    "spam=['a','b','c','d']\n",
    "\n",
    "spam[int(int('3'* 2)/11)]"
   ]
  },
  {
   "cell_type": "code",
   "execution_count": 49,
   "id": "bd5c428b",
   "metadata": {},
   "outputs": [
    {
     "data": {
      "text/plain": [
       "'d'"
      ]
     },
     "execution_count": 49,
     "metadata": {},
     "output_type": "execute_result"
    }
   ],
   "source": [
    "#4.What is the value of spam[-1]?\n",
    "spam=['a','b','c','d']\n",
    "spam[-1]"
   ]
  },
  {
   "cell_type": "code",
   "execution_count": 68,
   "id": "ded0d422",
   "metadata": {},
   "outputs": [
    {
     "data": {
      "text/plain": [
       "['a', 'b']"
      ]
     },
     "execution_count": 68,
     "metadata": {},
     "output_type": "execute_result"
    }
   ],
   "source": [
    "#5.What is the value of spam[:2]?\n",
    "spam=['a','b','c','d']\n",
    "spam[:2]"
   ]
  },
  {
   "cell_type": "code",
   "execution_count": 22,
   "id": "264951a0",
   "metadata": {},
   "outputs": [],
   "source": [
    "#This is the list given for the following 3 questions\n",
    "\n",
    "bacon=[3.14,'cat','11','cat', True]"
   ]
  },
  {
   "cell_type": "code",
   "execution_count": 24,
   "id": "1c247fbb",
   "metadata": {},
   "outputs": [
    {
     "data": {
      "text/plain": [
       "1"
      ]
     },
     "execution_count": 24,
     "metadata": {},
     "output_type": "execute_result"
    }
   ],
   "source": [
    "#6.What is the value of bacon.index('cat')?\n",
    "bacon.index('cat')"
   ]
  },
  {
   "cell_type": "code",
   "execution_count": 39,
   "id": "9d431812",
   "metadata": {},
   "outputs": [],
   "source": [
    "#7.How does bacon.append(99) change the look of the list value in bacon?\n",
    "bacon=[3.14,'cat','11','cat', True]\n",
    "bacon.append(99)"
   ]
  },
  {
   "cell_type": "code",
   "execution_count": 40,
   "id": "71488b36",
   "metadata": {},
   "outputs": [
    {
     "data": {
      "text/plain": [
       "[3.14, 'cat', '11', 'cat', True, 99]"
      ]
     },
     "execution_count": 40,
     "metadata": {},
     "output_type": "execute_result"
    }
   ],
   "source": [
    "bacon\n"
   ]
  },
  {
   "cell_type": "code",
   "execution_count": null,
   "id": "97e73de8",
   "metadata": {},
   "outputs": [],
   "source": [
    "#8. How does bacon.remove('cat') change the look of the list in bacon?"
   ]
  },
  {
   "cell_type": "code",
   "execution_count": 41,
   "id": "d669f7b3",
   "metadata": {},
   "outputs": [],
   "source": [
    "bacon.remove('cat')"
   ]
  },
  {
   "cell_type": "code",
   "execution_count": 42,
   "id": "d3fc48a1",
   "metadata": {},
   "outputs": [
    {
     "data": {
      "text/plain": [
       "[3.14, '11', 'cat', True, 99]"
      ]
     },
     "execution_count": 42,
     "metadata": {},
     "output_type": "execute_result"
    }
   ],
   "source": [
    "bacon"
   ]
  },
  {
   "cell_type": "code",
   "execution_count": 8,
   "id": "a88e5f5a",
   "metadata": {},
   "outputs": [
    {
     "name": "stdout",
     "output_type": "stream",
     "text": [
      "The concatenation of two lists is: [1, 2, 3, 4, 5, 6, 7, 8]\n",
      "The replication of two lists is: [1, 2, 3, 4, 1, 2, 3, 4, 1, 2, 3, 4]\n"
     ]
    }
   ],
   "source": [
    "#9.What are the list concatenation and list replication operators?\n",
    "\n",
    "We must use + operator to concatenate between two lists.\n",
    "\n",
    "l1=[1,2,3,4]\n",
    "l2=[5,6,7,8]\n",
    "l3=l1+l2\n",
    "print(\"The concatenation of two lists is:\", l3)\n",
    "\n",
    "We use * operator for list replication. It repeats the given list \n",
    "the specified number of times.\n",
    "\n",
    "l4=[1,2,3,4]\n",
    "l5=l4*3\n",
    "print(\"The replication of two lists is:\",l5)\n"
   ]
  },
  {
   "cell_type": "code",
   "execution_count": null,
   "id": "1a483c40",
   "metadata": {},
   "outputs": [],
   "source": [
    "#10.What is difference between the list methods append() and insert()?\n",
    "\n",
    "In append(), we can add the element only at end of the list.\n",
    "\n",
    "In insert(), it allows us to add a specific element at a \n",
    "specified index of the list.\n"
   ]
  },
  {
   "cell_type": "code",
   "execution_count": 12,
   "id": "3626ea98",
   "metadata": {},
   "outputs": [],
   "source": [
    "#11.What are the two methods for removing items from a list?\n",
    "\n",
    "pop() and remove() are the two methods for removing the items from\n",
    "a list.\n",
    "\n",
    "L=['a','b','c','d','e']\n",
    "L.pop()\n",
    "\n",
    "pop() removes the last value in the list.\n",
    "\n",
    "L.remove('a')\n",
    "\n",
    "After using pop and remove, the following output is displayed:"
   ]
  },
  {
   "cell_type": "code",
   "execution_count": 13,
   "id": "a273ccfa",
   "metadata": {},
   "outputs": [
    {
     "data": {
      "text/plain": [
       "['b', 'c', 'd']"
      ]
     },
     "execution_count": 13,
     "metadata": {},
     "output_type": "execute_result"
    }
   ],
   "source": [
    "L"
   ]
  },
  {
   "cell_type": "code",
   "execution_count": null,
   "id": "1c2364f2",
   "metadata": {},
   "outputs": [],
   "source": [
    "#12.Describe how list values and string values are identical.\n",
    "\n",
    "1.Lists are mutuable and Strings are immutuable.\n",
    "2.List can contain different datatypes but Strings can contain only \n",
    "String datatype."
   ]
  },
  {
   "cell_type": "code",
   "execution_count": null,
   "id": "3a9c7c48",
   "metadata": {},
   "outputs": [],
   "source": [
    "#13.What is the difference between tuples and lists?\n",
    "\n",
    "a)Tuples are immutuable and faster than list. \n",
    "b)Lists are mutuable and slower than tuples."
   ]
  },
  {
   "cell_type": "code",
   "execution_count": 19,
   "id": "82c5f670",
   "metadata": {},
   "outputs": [
    {
     "data": {
      "text/plain": [
       "tuple"
      ]
     },
     "execution_count": 19,
     "metadata": {},
     "output_type": "execute_result"
    }
   ],
   "source": [
    "#14. How do you type a tuple value that only contains the integer 42?\n",
    "\n",
    "type((42,))\n",
    "\n",
    "If we use 42 alone, the type will be int. \n",
    "If we use comma in a tuple, followed by the int 42, \n",
    "then the type will be tuple.\n"
   ]
  },
  {
   "cell_type": "code",
   "execution_count": null,
   "id": "787c9d81",
   "metadata": {},
   "outputs": [],
   "source": [
    "#15.How do you get a list value's tuple form? \n",
    "#How do you get a tuple value's list form?\n",
    "\n",
    "To get a list values tuple form, we can use zip() function \n",
    "to convert the tuples to list and create a list of tuples. \n",
    "\n",
    "Python iter() function is used to iterate an element of an \n",
    "object at a time. \n",
    "\n",
    "To get a tuple values list form, use:\n",
    "[tuple[index] for tuple in list] to return a list of items \n",
    "in index of each tuple in list ."
   ]
  },
  {
   "cell_type": "code",
   "execution_count": null,
   "id": "22ede2a0",
   "metadata": {},
   "outputs": [],
   "source": [
    "#16.Variables that \"contain\"list values are not necessarily lists \n",
    "#themselves. Instead, what do they contain?\n",
    "\n",
    "Variables contain references to the list values rather than \n",
    "list values themselves. But for strings and integer values, \n",
    "variables simply contain the string or integer value.\n"
   ]
  },
  {
   "cell_type": "code",
   "execution_count": 2,
   "id": "393a9840",
   "metadata": {},
   "outputs": [],
   "source": [
    "#17.How do you distinguish between copy.copy() and copy.deepcopy()?\n",
    "\n",
    "copy.copy()- It constructs a new compound object and then \n",
    "inserts references to the objects.\n",
    "\n",
    "copy.deepcopy()- constructs a new compound object and then,\n",
    "recursively inserts copies into the objects.\n",
    "\n",
    "Example:\n",
    "    \n",
    "import copy\n",
    "l1=[1,2,3,[6,7],4,5]\n",
    "l2=copy.copy(l1)"
   ]
  },
  {
   "cell_type": "code",
   "execution_count": 3,
   "id": "71410377",
   "metadata": {},
   "outputs": [
    {
     "data": {
      "text/plain": [
       "[1, 2, 3, [6, 7], 4, 5]"
      ]
     },
     "execution_count": 3,
     "metadata": {},
     "output_type": "execute_result"
    }
   ],
   "source": [
    "l1"
   ]
  },
  {
   "cell_type": "code",
   "execution_count": 4,
   "id": "122e4ddc",
   "metadata": {},
   "outputs": [
    {
     "data": {
      "text/plain": [
       "[1, 2, 3, [6, 7], 4, 5]"
      ]
     },
     "execution_count": 4,
     "metadata": {},
     "output_type": "execute_result"
    }
   ],
   "source": [
    "l2"
   ]
  },
  {
   "cell_type": "code",
   "execution_count": 8,
   "id": "46aa2cf7",
   "metadata": {},
   "outputs": [],
   "source": [
    "l3=copy.deepcopy(l2)"
   ]
  },
  {
   "cell_type": "code",
   "execution_count": 9,
   "id": "eaa7eb82",
   "metadata": {},
   "outputs": [
    {
     "data": {
      "text/plain": [
       "[1, 2, 3, [6, 7], 4, 5]"
      ]
     },
     "execution_count": 9,
     "metadata": {},
     "output_type": "execute_result"
    }
   ],
   "source": [
    "l3"
   ]
  },
  {
   "cell_type": "code",
   "execution_count": 10,
   "id": "6c7e4a95",
   "metadata": {},
   "outputs": [],
   "source": [
    "l3[2]=copy.deepcopy(l2)"
   ]
  },
  {
   "cell_type": "code",
   "execution_count": 11,
   "id": "f4ccf91e",
   "metadata": {},
   "outputs": [
    {
     "data": {
      "text/plain": [
       "[1, 2, [1, 2, 3, [6, 7], 4, 5], [6, 7], 4, 5]"
      ]
     },
     "execution_count": 11,
     "metadata": {},
     "output_type": "execute_result"
    }
   ],
   "source": [
    "l3"
   ]
  }
 ],
 "metadata": {
  "kernelspec": {
   "display_name": "Python 3 (ipykernel)",
   "language": "python",
   "name": "python3"
  },
  "language_info": {
   "codemirror_mode": {
    "name": "ipython",
    "version": 3
   },
   "file_extension": ".py",
   "mimetype": "text/x-python",
   "name": "python",
   "nbconvert_exporter": "python",
   "pygments_lexer": "ipython3",
   "version": "3.9.7"
  }
 },
 "nbformat": 4,
 "nbformat_minor": 5
}
