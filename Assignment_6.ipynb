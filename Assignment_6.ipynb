{
 "cells": [
  {
   "cell_type": "code",
   "execution_count": null,
   "id": "9cfc1a9e",
   "metadata": {},
   "outputs": [],
   "source": [
    "#1.What are escape characters, and how do you use them?\n",
    "\n",
    "In Python, the backslash \"\\\" is a special character. \n",
    "\n",
    "It is also called as \"escape\" character. \n",
    "\n",
    "It is used in representing  whitespace characters like:\n",
    "\n",
    "\"\\t\" is tab, \"\\n\" is newline, and \"\\r\" is carriage return."
   ]
  },
  {
   "cell_type": "code",
   "execution_count": null,
   "id": "3b6e702c",
   "metadata": {},
   "outputs": [],
   "source": [
    "#2.What do the escape characters n and t stand for?\n",
    "\n",
    "\"\\n\" is used for newline.\n",
    "\n",
    "\"\\t\" is tab."
   ]
  },
  {
   "cell_type": "code",
   "execution_count": 23,
   "id": "943cbb07",
   "metadata": {},
   "outputs": [
    {
     "name": "stdout",
     "output_type": "stream",
     "text": [
      "I love Python \\ programming\n"
     ]
    }
   ],
   "source": [
    "#3.What is the way to include backslash characters in a string?\n",
    "\n",
    "txt = \"I love Python \\\\ programming\"\n",
    "print(txt) \n"
   ]
  },
  {
   "cell_type": "code",
   "execution_count": null,
   "id": "e18c25b5",
   "metadata": {},
   "outputs": [],
   "source": [
    "#4.The string \"Howl's Moving Castle\" is a correct value. \n",
    "#Why isn't the single quote character in the word \n",
    "#Howl's not escaped a problem?\n",
    "\n",
    "The string \"Howl's Moving Castle\" is encapsulated in double quotes.\n",
    "So there will not be any error."
   ]
  },
  {
   "cell_type": "code",
   "execution_count": 22,
   "id": "e4faaa3a",
   "metadata": {},
   "outputs": [
    {
     "name": "stdout",
     "output_type": "stream",
     "text": [
      "PYTHON\n",
      "PHP\n",
      "JAVA\n",
      "C++\n",
      "C\n"
     ]
    }
   ],
   "source": [
    "#5.How do you write a string of newlines if you don't want to use \n",
    "#the n character?\n",
    "\n",
    "We can use for loop to print the output without using \\n.\n",
    "\n",
    "list = [\"PYTHON\",\"PHP\", \"JAVA\", \"C++\", \"C\", ]\n",
    "for i in list:\n",
    "    print(i)"
   ]
  },
  {
   "cell_type": "code",
   "execution_count": 3,
   "id": "77736bbc",
   "metadata": {},
   "outputs": [
    {
     "data": {
      "text/plain": [
       "'e'"
      ]
     },
     "execution_count": 3,
     "metadata": {},
     "output_type": "execute_result"
    }
   ],
   "source": [
    "#6.What are the values of the given expressions?\n",
    "\n",
    "'Hello, world!'[1]\n"
   ]
  },
  {
   "cell_type": "code",
   "execution_count": 4,
   "id": "379ddb51",
   "metadata": {},
   "outputs": [
    {
     "data": {
      "text/plain": [
       "'Hello'"
      ]
     },
     "execution_count": 4,
     "metadata": {},
     "output_type": "execute_result"
    }
   ],
   "source": [
    "'Hello, world!'[0:5]"
   ]
  },
  {
   "cell_type": "code",
   "execution_count": 5,
   "id": "36f1563c",
   "metadata": {},
   "outputs": [
    {
     "data": {
      "text/plain": [
       "'Hello'"
      ]
     },
     "execution_count": 5,
     "metadata": {},
     "output_type": "execute_result"
    }
   ],
   "source": [
    "'Hello, world!'[:5]"
   ]
  },
  {
   "cell_type": "code",
   "execution_count": 6,
   "id": "aae9e3dc",
   "metadata": {},
   "outputs": [
    {
     "data": {
      "text/plain": [
       "'lo, world!'"
      ]
     },
     "execution_count": 6,
     "metadata": {},
     "output_type": "execute_result"
    }
   ],
   "source": [
    "'Hello, world!'[3:]"
   ]
  },
  {
   "cell_type": "code",
   "execution_count": 7,
   "id": "ea4482f1",
   "metadata": {},
   "outputs": [
    {
     "data": {
      "text/plain": [
       "'HELLO'"
      ]
     },
     "execution_count": 7,
     "metadata": {},
     "output_type": "execute_result"
    }
   ],
   "source": [
    "#7.What are the values of the following expressions?\n",
    "'Hello'.upper()"
   ]
  },
  {
   "cell_type": "code",
   "execution_count": 9,
   "id": "5b1edc1b",
   "metadata": {},
   "outputs": [
    {
     "data": {
      "text/plain": [
       "True"
      ]
     },
     "execution_count": 9,
     "metadata": {},
     "output_type": "execute_result"
    }
   ],
   "source": [
    "'Hello'.upper().isupper()"
   ]
  },
  {
   "cell_type": "code",
   "execution_count": 15,
   "id": "6fdddc0a",
   "metadata": {},
   "outputs": [
    {
     "data": {
      "text/plain": [
       "'hello'"
      ]
     },
     "execution_count": 15,
     "metadata": {},
     "output_type": "execute_result"
    }
   ],
   "source": [
    "'Hello'.upper().lower()"
   ]
  },
  {
   "cell_type": "code",
   "execution_count": 21,
   "id": "b15f6e77",
   "metadata": {},
   "outputs": [
    {
     "data": {
      "text/plain": [
       "['Remember,', 'remember,', 'the', 'fifth', 'of', 'July']"
      ]
     },
     "execution_count": 21,
     "metadata": {},
     "output_type": "execute_result"
    }
   ],
   "source": [
    "#8.What are the values of the following expressions?\n",
    "\n",
    "'Remember, remember, the fifth of July'.split()\n",
    "\n"
   ]
  },
  {
   "cell_type": "code",
   "execution_count": 17,
   "id": "19473933",
   "metadata": {},
   "outputs": [
    {
     "data": {
      "text/plain": [
       "'There-can-only-one.'"
      ]
     },
     "execution_count": 17,
     "metadata": {},
     "output_type": "execute_result"
    }
   ],
   "source": [
    "'-'.join('There can only one.'.split())"
   ]
  },
  {
   "cell_type": "code",
   "execution_count": 13,
   "id": "a59a30be",
   "metadata": {},
   "outputs": [
    {
     "name": "stdout",
     "output_type": "stream",
     "text": [
      " I like Python--------------------------\n"
     ]
    }
   ],
   "source": [
    "#9.What are the methods for right-justifying, left-justifying, and \n",
    "#centering a string?\n",
    "\n",
    "s=\" I like Python\"\n",
    "print(s.ljust(40,'-'))"
   ]
  },
  {
   "cell_type": "code",
   "execution_count": 14,
   "id": "2cffedbe",
   "metadata": {},
   "outputs": [
    {
     "name": "stdout",
     "output_type": "stream",
     "text": [
      "-------------------------- I like Python\n"
     ]
    }
   ],
   "source": [
    "print(s.rjust(40,'-'))"
   ]
  },
  {
   "cell_type": "code",
   "execution_count": 15,
   "id": "e4eef3ba",
   "metadata": {},
   "outputs": [
    {
     "name": "stdout",
     "output_type": "stream",
     "text": [
      "              I like Python             \n"
     ]
    }
   ],
   "source": [
    "print(s.center(40))"
   ]
  },
  {
   "cell_type": "code",
   "execution_count": null,
   "id": "5bf98bf9",
   "metadata": {},
   "outputs": [],
   "source": [
    "#10.What is the best way to remove whitespace characters \n",
    "#from the start or end?\n",
    "\n",
    "strip() method removes whitespace at the beginning and\n",
    "end of a string.(right and left of the string)\n",
    "\n",
    "Example is given below:\n",
    "    \n",
    "a)rstrip-right strip\n",
    "b)lstrip-left strip"
   ]
  },
  {
   "cell_type": "code",
   "execution_count": 6,
   "id": "25e649f0",
   "metadata": {},
   "outputs": [
    {
     "data": {
      "text/plain": [
       "'  I like Python'"
      ]
     },
     "execution_count": 6,
     "metadata": {},
     "output_type": "execute_result"
    }
   ],
   "source": [
    "s=\"  I like Python   \"\n",
    "s.rstrip()"
   ]
  },
  {
   "cell_type": "code",
   "execution_count": 7,
   "id": "895953c3",
   "metadata": {},
   "outputs": [
    {
     "data": {
      "text/plain": [
       "'I like Python   '"
      ]
     },
     "execution_count": 7,
     "metadata": {},
     "output_type": "execute_result"
    }
   ],
   "source": [
    "s=\"  I like Python   \"\n",
    "s.lstrip()"
   ]
  }
 ],
 "metadata": {
  "kernelspec": {
   "display_name": "Python 3 (ipykernel)",
   "language": "python",
   "name": "python3"
  },
  "language_info": {
   "codemirror_mode": {
    "name": "ipython",
    "version": 3
   },
   "file_extension": ".py",
   "mimetype": "text/x-python",
   "name": "python",
   "nbconvert_exporter": "python",
   "pygments_lexer": "ipython3",
   "version": "3.9.7"
  }
 },
 "nbformat": 4,
 "nbformat_minor": 5
}
