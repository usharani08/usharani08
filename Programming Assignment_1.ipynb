{
 "cells": [
  {
   "cell_type": "code",
   "execution_count": 1,
   "id": "69a9f496",
   "metadata": {},
   "outputs": [
    {
     "name": "stdout",
     "output_type": "stream",
     "text": [
      "Hello Python\n"
     ]
    }
   ],
   "source": [
    "#1. Write a Python program to print \"Hello Python\".\n",
    "\n",
    "print(\"Hello Python\")"
   ]
  },
  {
   "cell_type": "code",
   "execution_count": 17,
   "id": "a177f9ef",
   "metadata": {},
   "outputs": [
    {
     "name": "stdout",
     "output_type": "stream",
     "text": [
      "Enter the first number:10\n",
      "Enter the second number:20\n",
      "The addition of 10 and 20 is: 30\n",
      "The division of 10 and 20 is: 0.5\n"
     ]
    }
   ],
   "source": [
    "#2.Write a Python program to do arithmetical operations addition and division.?\n",
    "\n",
    "a=int(input(\"Enter the first number:\"))\n",
    "b=int(input(\"Enter the second number:\"))\n",
    "c=a+b\n",
    "print(\"The addition of\",a,\"and\" ,b, \"is:\",c)\n",
    "c=a/b\n",
    "print(\"The division of\",a,\"and\",b, \"is:\",c)"
   ]
  },
  {
   "cell_type": "code",
   "execution_count": 18,
   "id": "67eee33a",
   "metadata": {},
   "outputs": [
    {
     "name": "stdout",
     "output_type": "stream",
     "text": [
      "Enter the base value:20\n",
      "enter the height value:15\n",
      "The Area of the triangle is: 75.0\n"
     ]
    }
   ],
   "source": [
    "#3.Write a Python program to find the area of a triangle?\n",
    "\n",
    "base= int(input(\"Enter the base value:\"))\n",
    "height=int(input(\"enter the height value:\"))\n",
    "Area = 1/2 * breadth*height\n",
    "print(\"The Area of the triangle is:\",Area)"
   ]
  },
  {
   "cell_type": "code",
   "execution_count": 20,
   "id": "ba03d475",
   "metadata": {},
   "outputs": [
    {
     "name": "stdout",
     "output_type": "stream",
     "text": [
      "Enter the value of x:3\n",
      "Enter the value of y:4\n",
      "The value of x after swapping: 4\n",
      "The value of y after swapping: 3\n"
     ]
    }
   ],
   "source": [
    "#4.Write a Python program to swap two variables?\n",
    "\n",
    "x = input(\"Enter the value of x:\")\n",
    "y = input(\"Enter the value of y:\")\n",
    "\n",
    "temp = x\n",
    "x = y\n",
    "y = temp\n",
    "\n",
    "print(\"The value of x after swapping:\",x)\n",
    "print(\"The value of y after swapping:\",y)\n"
   ]
  },
  {
   "cell_type": "code",
   "execution_count": 25,
   "id": "b2540daf",
   "metadata": {},
   "outputs": [
    {
     "name": "stdout",
     "output_type": "stream",
     "text": [
      "87\n"
     ]
    }
   ],
   "source": [
    "#5.Write a Python program to generate a random number?\n",
    "\n",
    "import random\n",
    "\n",
    "print(random.randint(0,100))"
   ]
  }
 ],
 "metadata": {
  "kernelspec": {
   "display_name": "Python 3 (ipykernel)",
   "language": "python",
   "name": "python3"
  },
  "language_info": {
   "codemirror_mode": {
    "name": "ipython",
    "version": 3
   },
   "file_extension": ".py",
   "mimetype": "text/x-python",
   "name": "python",
   "nbconvert_exporter": "python",
   "pygments_lexer": "ipython3",
   "version": "3.9.7"
  }
 },
 "nbformat": 4,
 "nbformat_minor": 5
}
