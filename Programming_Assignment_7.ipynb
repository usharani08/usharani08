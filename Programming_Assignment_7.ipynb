{
 "cells": [
  {
   "cell_type": "code",
   "execution_count": 3,
   "id": "f381fec6",
   "metadata": {},
   "outputs": [
    {
     "name": "stdout",
     "output_type": "stream",
     "text": [
      "Sum of the array is  116\n"
     ]
    }
   ],
   "source": [
    "#1.Write a Python Program to find sum of array?\n",
    "\n",
    "arr = [12, 3, 4, 15,45,34,2,1]\n",
    "\n",
    "ans = sum(arr)\n",
    "\n",
    "print ('Sum of the array is ',ans)"
   ]
  },
  {
   "cell_type": "code",
   "execution_count": 39,
   "id": "75a1fa06",
   "metadata": {},
   "outputs": [
    {
     "name": "stdout",
     "output_type": "stream",
     "text": [
      "Largest in the given array is 145\n"
     ]
    }
   ],
   "source": [
    "#2.Write a Python Program to find largest element in an array?\n",
    "\n",
    "def largest(arr,n):\n",
    "    max = arr[0]\n",
    "    for i in range(1, n):\n",
    "        if arr[i] > max:\n",
    "            max = arr[i]\n",
    "    return max\n",
    "\n",
    "arr = [10, 24, 145, 90, 98,110,125]\n",
    "n = len(arr)\n",
    "Ans = largest(arr,n)\n",
    "print (\"Largest in the given array is\",Ans)\n"
   ]
  },
  {
   "cell_type": "code",
   "execution_count": 4,
   "id": "a3b127b8",
   "metadata": {},
   "outputs": [
    {
     "name": "stdout",
     "output_type": "stream",
     "text": [
      "Array after left rotation is:  [3, 4, 5, 6, 7, 1, 2]\n"
     ]
    }
   ],
   "source": [
    "#3.Write a Python Program for array rotation?\n",
    "\n",
    "def rotateArray(a,d):\n",
    "    temp = []\n",
    "    n=len(a)\n",
    "    for i in range(d,n):\n",
    "        temp.append(a[i])\n",
    "    i = 0\n",
    "    for i in range (0,d):\n",
    "        temp.append(a[i])\n",
    "    a=temp.copy()\n",
    "    return a\n",
    " \n",
    "arr = [1, 2, 3, 4, 5, 6, 7]\n",
    "print(\"Array after left rotation is: \", end=' ')\n",
    "print(rotateArray(arr, 2))\n"
   ]
  },
  {
   "cell_type": "code",
   "execution_count": 10,
   "id": "8cde452c",
   "metadata": {},
   "outputs": [
    {
     "name": "stdout",
     "output_type": "stream",
     "text": [
      "45 50 60 80 10 25 "
     ]
    }
   ],
   "source": [
    "#4.Write a Python Program to split the array and add the  first \n",
    "#part to the end.\n",
    "\n",
    "def SplitArray(arr, n, k):\n",
    "    for i in range(0, k):\n",
    "        x = arr[0]\n",
    "        for j in range(0, n-1):\n",
    "            arr[j] = arr[j + 1]\n",
    "        arr[n-1] = x\n",
    "arr = [10,25,45,50,60,80]\n",
    "n = len(arr)\n",
    "position = 2\n",
    "SplitArray(arr, n, position)\n",
    "for i in range(0, n):\n",
    "        print(arr[i], end = ' ')\n"
   ]
  },
  {
   "cell_type": "code",
   "execution_count": 16,
   "id": "fddfcfde",
   "metadata": {},
   "outputs": [
    {
     "name": "stdout",
     "output_type": "stream",
     "text": [
      "True\n",
      "False\n",
      "True\n",
      "True\n",
      "False\n"
     ]
    }
   ],
   "source": [
    "#5.Write a Python Program to check if given array is Monotonic?\n",
    "\n",
    "def ismonotone(a):\n",
    "    n=len(a) \n",
    "    if n==1:\n",
    "        return True\n",
    "    else:\n",
    "       \n",
    "        if all(a[i]>=a[i+1] \n",
    "          for i in range(0,n-1) or a[i]<=a[i+1] \n",
    "            for i in range(0,n-1)):\n",
    "            return True\n",
    "        else:\n",
    "            return False\n",
    "\n",
    "A = [6, 5, 4, 2]\n",
    "print(ismonotone(A))\n",
    "b = [6, 2, 4, 2]\n",
    "print(ismonotone(b))\n",
    "c=[4,3,2]\n",
    "print(ismonotone(c))\n",
    "d=[1]\n",
    "print(ismonotone(d))\n",
    "e=[7,9,2]\n",
    "print(ismonotone(e))"
   ]
  }
 ],
 "metadata": {
  "kernelspec": {
   "display_name": "Python 3 (ipykernel)",
   "language": "python",
   "name": "python3"
  },
  "language_info": {
   "codemirror_mode": {
    "name": "ipython",
    "version": 3
   },
   "file_extension": ".py",
   "mimetype": "text/x-python",
   "name": "python",
   "nbconvert_exporter": "python",
   "pygments_lexer": "ipython3",
   "version": "3.9.7"
  }
 },
 "nbformat": 4,
 "nbformat_minor": 5
}
